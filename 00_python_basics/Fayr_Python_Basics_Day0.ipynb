{
 "cells": [
  {
   "cell_type": "markdown",
   "id": "5984b64d",
   "metadata": {},
   "source": [
    "# 🐍 Python Basics – Day 0\n",
    "Welcome to your first Python notebook!\n",
    "\n",
    "In this notebook, we'll start learning Python from scratch — no experience needed.\n",
    "Let's begin your journey toward AI/ML mastery 🚀"
   ]
  },
  {
   "cell_type": "markdown",
   "id": "f69bb7b7",
   "metadata": {},
   "source": [
    "## ✅ 1. Your First Python Code"
   ]
  },
  {
   "cell_type": "code",
   "execution_count": null,
   "id": "5e216ea8",
   "metadata": {},
   "outputs": [],
   "source": [
    "print(\"Assalamualaikum, Duniya!\")"
   ]
  },
  {
   "cell_type": "markdown",
   "id": "7452c3e6",
   "metadata": {},
   "source": [
    "## ✅ 2. Variables & Strings"
   ]
  },
  {
   "cell_type": "code",
   "execution_count": null,
   "id": "59190e5e",
   "metadata": {},
   "outputs": [],
   "source": [
    "name = \"Fayr\"\n",
    "age = 0\n",
    "print(\"Welcome to the AI Journey, \" + name + \"!\")\n",
    "print(\"Your journey level is\", age)"
   ]
  },
  {
   "cell_type": "markdown",
   "id": "e2944c3e",
   "metadata": {},
   "source": [
    "## ✅ 3. Numbers & Math"
   ]
  },
  {
   "cell_type": "code",
   "execution_count": null,
   "id": "df7013df",
   "metadata": {},
   "outputs": [],
   "source": [
    "x = 10\n",
    "y = 3\n",
    "print(\"Addition:\", x + y)\n",
    "print(\"Multiplication:\", x * y)"
   ]
  },
  {
   "cell_type": "markdown",
   "id": "3533aeb5",
   "metadata": {},
   "source": [
    "## ✅ 4. Lists & Loops"
   ]
  },
  {
   "cell_type": "code",
   "execution_count": null,
   "id": "b2b070cb",
   "metadata": {},
   "outputs": [],
   "source": [
    "colors = [\"red\", \"green\", \"blue\"]\n",
    "for color in colors:\n",
    "    print(\"Color:\", color)"
   ]
  },
  {
   "cell_type": "markdown",
   "id": "fa88eea8",
   "metadata": {},
   "source": [
    "## ✅ 5. If/Else Conditions"
   ]
  },
  {
   "cell_type": "code",
   "execution_count": null,
   "id": "da94765a",
   "metadata": {},
   "outputs": [],
   "source": [
    "temperature = 30\n",
    "if temperature > 25:\n",
    "    print(\"Garmi hai!\")\n",
    "else:\n",
    "    print(\"Thand hai!\")"
   ]
  },
  {
   "cell_type": "markdown",
   "id": "dcfbc16e",
   "metadata": {},
   "source": [
    "## ✅ 6. Functions"
   ]
  },
  {
   "cell_type": "code",
   "execution_count": null,
   "id": "84ba347a",
   "metadata": {},
   "outputs": [],
   "source": [
    "def greet(name):\n",
    "    print(\"Hello, \" + name + \"!\")\n",
    "\n",
    "greet(\"Fayr\")"
   ]
  }
 ],
 "metadata": {},
 "nbformat": 4,
 "nbformat_minor": 5
}
